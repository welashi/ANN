{
  "cells": [
    {
      "cell_type": "markdown",
      "metadata": {
        "id": "kL34AMBZX2OU"
      },
      "source": [
        "# Сверточные нейронные сети CNN"
      ]
    },
    {
      "cell_type": "code",
      "execution_count": 1,
      "metadata": {
        "id": "zWz-ViS4X2OW",
        "outputId": "008a1cab-6911-46cf-9510-793455f68ed3",
        "colab": {
          "base_uri": "https://localhost:8080/"
        }
      },
      "outputs": [
        {
          "output_type": "stream",
          "name": "stdout",
          "text": [
            "Downloading data from https://storage.googleapis.com/tensorflow/tf-keras-datasets/mnist.npz\n",
            "11490434/11490434 [==============================] - 0s 0us/step\n",
            "(60000, 28, 28, 1)\n",
            "Epoch 1/5\n",
            "1500/1500 [==============================] - 86s 56ms/step - loss: 0.1409 - accuracy: 0.9570 - val_loss: 0.0579 - val_accuracy: 0.9828\n",
            "Epoch 2/5\n",
            "1500/1500 [==============================] - 75s 50ms/step - loss: 0.0455 - accuracy: 0.9858 - val_loss: 0.0491 - val_accuracy: 0.9854\n",
            "Epoch 3/5\n",
            "1500/1500 [==============================] - 72s 48ms/step - loss: 0.0306 - accuracy: 0.9899 - val_loss: 0.0476 - val_accuracy: 0.9863\n",
            "Epoch 4/5\n",
            "1500/1500 [==============================] - 74s 49ms/step - loss: 0.0224 - accuracy: 0.9928 - val_loss: 0.0505 - val_accuracy: 0.9858\n",
            "Epoch 5/5\n",
            "1500/1500 [==============================] - 76s 51ms/step - loss: 0.0153 - accuracy: 0.9947 - val_loss: 0.0434 - val_accuracy: 0.9898\n",
            "313/313 [==============================] - 5s 16ms/step - loss: 0.0353 - accuracy: 0.9898\n"
          ]
        },
        {
          "output_type": "execute_result",
          "data": {
            "text/plain": [
              "[0.03534068167209625, 0.989799976348877]"
            ]
          },
          "metadata": {},
          "execution_count": 1
        }
      ],
      "source": [
        "from tensorflow.keras.layers import Dense, Flatten, Conv2D, MaxPooling2D\n",
        "from tensorflow import keras\n",
        "# библиотека базы выборок Mnist\n",
        "from tensorflow.keras.datasets import mnist\n",
        "import matplotlib.pyplot as plt\n",
        "import numpy as np\n",
        "import os\n",
        "os.environ['TF_CPP_MIN_LOG_LEVEL'] = '2'\n",
        "\n",
        "\n",
        "(x_train, y_train), (x_test, y_test) = mnist.load_data()\n",
        "\n",
        "# стандартизация входных данных\n",
        "x_train = x_train / 255\n",
        "x_test = x_test / 255\n",
        "\n",
        "y_train_cat = keras.utils.to_categorical(y_train, 10)\n",
        "y_test_cat = keras.utils.to_categorical(y_test, 10)\n",
        "\n",
        "x_train = np.expand_dims(x_train, axis=3)\n",
        "x_test = np.expand_dims(x_test, axis=3)\n",
        "\n",
        "print(x_train.shape)\n",
        "\n",
        "model = keras.Sequential([\n",
        "    Conv2D(32, (3, 3), padding='same',\n",
        "           activation='relu', input_shape=(28, 28, 1)),\n",
        "    MaxPooling2D((2, 2), strides=2),\n",
        "    Conv2D(64, (3, 3), padding='same', activation='relu'),\n",
        "    MaxPooling2D((2, 2), strides=2),\n",
        "    Flatten(),\n",
        "    Dense(128, activation='relu'),\n",
        "    Dense(10,  activation='softmax')\n",
        "])\n",
        "\n",
        "model.compile(optimizer='adam',\n",
        "              loss='categorical_crossentropy',\n",
        "              metrics=['accuracy'])\n",
        "\n",
        "\n",
        "his = model.fit(x_train, y_train_cat, batch_size=32,\n",
        "                epochs=5, validation_split=0.2)\n",
        "\n",
        "model.evaluate(x_test, y_test_cat)\n"
      ]
    },
    {
      "cell_type": "code",
      "execution_count": 2,
      "metadata": {
        "id": "vX9SRM4eX2Oa",
        "outputId": "2dea6a2f-5052-43a0-e184-3acfbcd77ebe",
        "colab": {
          "base_uri": "https://localhost:8080/"
        }
      },
      "outputs": [
        {
          "output_type": "stream",
          "name": "stdout",
          "text": [
            "Model: \"sequential\"\n",
            "_________________________________________________________________\n",
            " Layer (type)                Output Shape              Param #   \n",
            "=================================================================\n",
            " conv2d (Conv2D)             (None, 28, 28, 32)        320       \n",
            "                                                                 \n",
            " max_pooling2d (MaxPooling2  (None, 14, 14, 32)        0         \n",
            " D)                                                              \n",
            "                                                                 \n",
            " conv2d_1 (Conv2D)           (None, 14, 14, 64)        18496     \n",
            "                                                                 \n",
            " max_pooling2d_1 (MaxPoolin  (None, 7, 7, 64)          0         \n",
            " g2D)                                                            \n",
            "                                                                 \n",
            " flatten (Flatten)           (None, 3136)              0         \n",
            "                                                                 \n",
            " dense (Dense)               (None, 128)               401536    \n",
            "                                                                 \n",
            " dense_1 (Dense)             (None, 10)                1290      \n",
            "                                                                 \n",
            "=================================================================\n",
            "Total params: 421642 (1.61 MB)\n",
            "Trainable params: 421642 (1.61 MB)\n",
            "Non-trainable params: 0 (0.00 Byte)\n",
            "_________________________________________________________________\n",
            "None\n"
          ]
        }
      ],
      "source": [
        "# вывод структуры ИНС\n",
        "print(model.summary())"
      ]
    }
  ],
  "metadata": {
    "kernelspec": {
      "display_name": "Python 3",
      "language": "python",
      "name": "python3"
    },
    "language_info": {
      "codemirror_mode": {
        "name": "ipython",
        "version": 3
      },
      "file_extension": ".py",
      "mimetype": "text/x-python",
      "name": "python",
      "nbconvert_exporter": "python",
      "pygments_lexer": "ipython3",
      "version": "3.9.7"
    },
    "orig_nbformat": 4,
    "colab": {
      "provenance": []
    }
  },
  "nbformat": 4,
  "nbformat_minor": 0
}